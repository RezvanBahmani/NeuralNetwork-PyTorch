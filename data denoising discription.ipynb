{
  "nbformat": 4,
  "nbformat_minor": 0,
  "metadata": {
    "colab": {
      "name": "P4 discription.ipynb",
      "provenance": [],
      "collapsed_sections": []
    },
    "kernelspec": {
      "name": "python3",
      "display_name": "Python 3"
    },
    "language_info": {
      "name": "python"
    },
    "accelerator": "GPU"
  },
  "cells": [
    {
      "cell_type": "code",
      "metadata": {
        "colab": {
          "base_uri": "https://localhost:8080/"
        },
        "id": "RnXTMibwoX9S",
        "outputId": "46256fa9-61c1-4d63-d116-f96210ce462f"
      },
      "source": [
        "from google.colab import drive\n",
        "drive.mount('/content/drive')\n",
        "!cp \"/content/drive/MyDrive/UTKFace.tar.gz\" .\n",
        "!tar xvzf UTKFace.tar.gz &> /dev/null\n",
        "from tensorflow.keras import *\n",
        "from tensorflow.keras.utils import *\n",
        "import matplotlib.pyplot as plt\n",
        "from sklearn.metrics import classification_report\n",
        "import numpy as np\n",
        "import pandas as pd\n",
        "import tensorboard\n",
        "import os\n",
        "dot = '.'\n",
        "underline = '_'\n",
        "White =  \"White\"\n",
        "Black  = \"Black\" \n",
        "Asian  = \"Asian\" \n",
        "Indian = \"Indian\" \n",
        "Others = \"Others\"\n",
        "\n",
        "image = 'image'\n",
        "Race  = 'Race'\n",
        "\n",
        "img_path = list()\n",
        "Races = list()\n",
        "\n",
        "path = \"/content/UTKFace\"\n",
        "\n",
        "\n",
        "for img in os.listdir(path):\n",
        "  temp = img.split(dot)\n",
        "\n",
        "  if len(temp[0].split(underline)) != 4:\n",
        "    continue\n",
        "  img_path.append(os.path.join(path, img))\n",
        "  age, gender, race, date = temp[0].split(underline)\n",
        "  Races.append(int(race))\n",
        "\n",
        "\n",
        "\n",
        "classLabels = {0:White, 1:Black, 2:Asian, 3:Indian, 4:Others}\n",
        "\n",
        "Races = [str(utils.to_categorical(i, len(classLabels))) for i in Races]\n",
        "\n",
        "df = pd.DataFrame({\n",
        "    image : img_path,\n",
        "    Race : Races\n",
        "})\n",
        "\n",
        "\n",
        "dataGenerator = preprocessing.image.ImageDataGenerator(\n",
        "    rescale = 1/255.0,\n",
        "    validation_split = 0.3\n",
        ")\n",
        "TrainData = dataGenerator.flow_from_dataframe(\n",
        "    dataframe = df,\n",
        "    x_col = image,\n",
        "    y_col = Race,\n",
        "    target_size = (100, 100),\n",
        "    color_mode = \"grayscale\",\n",
        "    batch_size = 32,\n",
        "    class_mode = 'categorical',\n",
        "    subset = \"training\",\n",
        "    shuffle = True\n",
        ")\n",
        "TestData = dataGenerator.flow_from_dataframe(\n",
        "    dataframe = df,\n",
        "    x_col = image,\n",
        "    y_col = Race,\n",
        "    target_size = (100, 100),\n",
        "    color_mode = \"grayscale\",\n",
        "    batch_size = 32,\n",
        "    class_mode = 'categorical',\n",
        "    subset = \"validation\",\n",
        "    shuffle = True\n",
        ")"
      ],
      "execution_count": null,
      "outputs": [
        {
          "output_type": "stream",
          "text": [
            "Mounted at /content/drive\n",
            "Found 16594 validated image filenames belonging to 5 classes.\n",
            "Found 7111 validated image filenames belonging to 5 classes.\n"
          ],
          "name": "stdout"
        }
      ]
    },
    {
      "cell_type": "code",
      "metadata": {
        "colab": {
          "base_uri": "https://localhost:8080/"
        },
        "id": "7h8oOIZJo1_d",
        "outputId": "1c91a80b-6499-4d12-a391-925b64afc1dd"
      },
      "source": [
        "LEARNING_RATE = 0.01\n",
        "LOSS = \"categorical_crossentropy\"\n",
        "METRICS = \"accuracy\"\n",
        "EPOCH = 8\n",
        "\n",
        "input = layers.Input(shape = (10000, ))\n",
        "output1 = layers.Flatten()(input)\n",
        "output2 = layers.Dense(1024, activation = \"relu\")(output1)\n",
        "output2 = layers.Dense(512, activation = \"relu\")(output1)\n",
        "output3 = layers.Dense(2,  activation = \"relu\")(output2)\n",
        "output4 = layers.Dense(5,  activation = \"softmax\")(output3)\n",
        "model = models.Model(inputs = input, outputs = output4)\n",
        "model.compile(optimizer=optimizers.SGD(learning_rate=LEARNING_RATE), loss = LOSS, metrics=[METRICS])\n",
        "model.summary()"
      ],
      "execution_count": null,
      "outputs": [
        {
          "output_type": "stream",
          "text": [
            "Model: \"model\"\n",
            "_________________________________________________________________\n",
            "Layer (type)                 Output Shape              Param #   \n",
            "=================================================================\n",
            "input_1 (InputLayer)         [(None, 10000)]           0         \n",
            "_________________________________________________________________\n",
            "flatten (Flatten)            (None, 10000)             0         \n",
            "_________________________________________________________________\n",
            "dense_1 (Dense)              (None, 512)               5120512   \n",
            "_________________________________________________________________\n",
            "dense_2 (Dense)              (None, 2)                 1026      \n",
            "_________________________________________________________________\n",
            "dense_3 (Dense)              (None, 5)                 15        \n",
            "=================================================================\n",
            "Total params: 5,121,553\n",
            "Trainable params: 5,121,553\n",
            "Non-trainable params: 0\n",
            "_________________________________________________________________\n"
          ],
          "name": "stdout"
        }
      ]
    },
    {
      "cell_type": "code",
      "metadata": {
        "colab": {
          "base_uri": "https://localhost:8080/"
        },
        "id": "3K62Oh3Ho4UW",
        "outputId": "5ea2de97-af9a-48de-9f83-7cb69c89e5af"
      },
      "source": [
        "history = model.fit(TrainData, validation_data=TestData, epochs = EPOCH)"
      ],
      "execution_count": null,
      "outputs": [
        {
          "output_type": "stream",
          "text": [
            "Epoch 1/8\n",
            "WARNING:tensorflow:Model was constructed with shape (None, 10000) for input KerasTensor(type_spec=TensorSpec(shape=(None, 10000), dtype=tf.float32, name='input_1'), name='input_1', description=\"created by layer 'input_1'\"), but it was called on an input with incompatible shape (None, None, None, None).\n",
            "WARNING:tensorflow:Model was constructed with shape (None, 10000) for input KerasTensor(type_spec=TensorSpec(shape=(None, 10000), dtype=tf.float32, name='input_1'), name='input_1', description=\"created by layer 'input_1'\"), but it was called on an input with incompatible shape (None, None, None, None).\n",
            "518/519 [============================>.] - ETA: 0s - loss: 1.5111 - accuracy: 0.4225WARNING:tensorflow:Model was constructed with shape (None, 10000) for input KerasTensor(type_spec=TensorSpec(shape=(None, 10000), dtype=tf.float32, name='input_1'), name='input_1', description=\"created by layer 'input_1'\"), but it was called on an input with incompatible shape (None, None, None, None).\n",
            "519/519 [==============================] - 24s 41ms/step - loss: 1.5110 - accuracy: 0.4226 - val_loss: 1.4657 - val_accuracy: 0.4279\n",
            "Epoch 2/8\n",
            "519/519 [==============================] - 21s 40ms/step - loss: 1.4554 - accuracy: 0.4239 - val_loss: 1.4528 - val_accuracy: 0.4279\n",
            "Epoch 3/8\n",
            "519/519 [==============================] - 21s 40ms/step - loss: 1.4487 - accuracy: 0.4239 - val_loss: 1.4512 - val_accuracy: 0.4279\n",
            "Epoch 4/8\n",
            "519/519 [==============================] - 21s 40ms/step - loss: 1.4469 - accuracy: 0.4239 - val_loss: 1.4510 - val_accuracy: 0.4279\n",
            "Epoch 5/8\n",
            "519/519 [==============================] - 21s 40ms/step - loss: 1.4463 - accuracy: 0.4239 - val_loss: 1.4512 - val_accuracy: 0.4279\n",
            "Epoch 6/8\n",
            "519/519 [==============================] - 21s 40ms/step - loss: 1.4460 - accuracy: 0.4239 - val_loss: 1.4514 - val_accuracy: 0.4279\n",
            "Epoch 7/8\n",
            "519/519 [==============================] - 21s 40ms/step - loss: 1.4459 - accuracy: 0.4239 - val_loss: 1.4516 - val_accuracy: 0.4279\n",
            "Epoch 8/8\n",
            "519/519 [==============================] - 21s 40ms/step - loss: 1.4459 - accuracy: 0.4239 - val_loss: 1.4517 - val_accuracy: 0.4279\n"
          ],
          "name": "stdout"
        }
      ]
    },
    {
      "cell_type": "code",
      "metadata": {
        "colab": {
          "base_uri": "https://localhost:8080/",
          "height": 466
        },
        "id": "9Jt2l7fcrJoe",
        "outputId": "ddcb335f-8a95-41f5-d995-332b6e136908"
      },
      "source": [
        "plot_model(model)"
      ],
      "execution_count": null,
      "outputs": [
        {
          "output_type": "execute_result",
          "data": {
            "image/png": "[encoded data removed]",
            "text/plain": [
              "<IPython.core.display.Image object>"
            ]
          },
          "metadata": {
            "tags": []
          },
          "execution_count": 12
        }
      ]
    },
    {
      "cell_type": "code",
      "metadata": {
        "colab": {
          "base_uri": "https://localhost:8080/"
        },
        "id": "hAZcnktIsQxO",
        "outputId": "113d9ab7-922d-455f-b49f-903d912dc123"
      },
      "source": [
        "from keras import backend as K\n",
        "\n",
        "input1 = model.input               # input placeholder\n",
        "\n",
        "outputtt = [layer.output for layer in model.layers]# all layer outputs\n",
        "\n",
        "# fun = K.function([input1, K.learning_phase()],outputtt)# evaluation function\n",
        "\n",
        "# Testing\n",
        "\n",
        "t = np.random.random(100)[np.newaxis,...]\n",
        "\n",
        "# layer_outputs = fun([t, 1.])\n",
        "outputtt"
      ],
      "execution_count": null,
      "outputs": [
        {
          "output_type": "execute_result",
          "data": {
            "text/plain": [
              "[<KerasTensor: shape=(None, 10000) dtype=float32 (created by layer 'input_1')>,\n",
              " <KerasTensor: shape=(None, 10000) dtype=float32 (created by layer 'flatten')>,\n",
              " <KerasTensor: shape=(None, 512) dtype=float32 (created by layer 'dense_1')>,\n",
              " <KerasTensor: shape=(None, 2) dtype=float32 (created by layer 'dense_2')>,\n",
              " <KerasTensor: shape=(None, 5) dtype=float32 (created by layer 'dense_3')>]"
            ]
          },
          "metadata": {
            "tags": []
          },
          "execution_count": 30
        }
      ]
    },
    {
      "cell_type": "code",
      "metadata": {
        "colab": {
          "base_uri": "https://localhost:8080/",
          "height": 316
        },
        "id": "sbeSlkWBtCnb",
        "outputId": "38929b31-5025-472a-9788-335ae8e47c90"
      },
      "source": [
        "from keras import backend as K\n",
        "\n",
        "def layer_to_visualize(mylayer):\n",
        "    inputs = [K.learning_phase()] + model.inputs\n",
        "\n",
        "    _convout1_f = K.function(inputs, [mylayer.output])\n",
        "    def convout1_f(X):\n",
        "        # The [0] is to disable the training phase flag\n",
        "        return _convout1_f([0] + [X])\n",
        "\n",
        "    convolutions = convout1_f(img_to_visualize)\n",
        "    convolutions = np.squeeze(convolutions)\n",
        "\n",
        "    print ('Shape of conv:', convolutions.shape)\n",
        "\n",
        "    n = convolutions.shape[0]\n",
        "    n = int(np.ceil(np.sqrt(n)))\n",
        "\n",
        "    # Visualization of each filter of the layer\n",
        "    fig = plt.figure(figsize=(12,8))\n",
        "    for i in range(len(convolutions)):\n",
        "        ax = fig.add_subplot(n,n,i+1)\n",
        "        ax.imshow(convolutions[i], cmap='gray')\n",
        "\n",
        "# Specify the layer to want to visualize\n",
        "layer_to_visualize(output3)"
      ],
      "execution_count": null,
      "outputs": [
        {
          "output_type": "error",
          "ename": "AttributeError",
          "evalue": "ignored",
          "traceback": [
            "\u001b[0;31m---------------------------------------------------------------------------\u001b[0m",
            "\u001b[0;31mAttributeError\u001b[0m                            Traceback (most recent call last)",
            "\u001b[0;32m<ipython-input-16-d9874e79fc9e>\u001b[0m in \u001b[0;36m<module>\u001b[0;34m()\u001b[0m\n\u001b[1;32m     24\u001b[0m \u001b[0;34m\u001b[0m\u001b[0m\n\u001b[1;32m     25\u001b[0m \u001b[0;31m# Specify the layer to want to visualize\u001b[0m\u001b[0;34m\u001b[0m\u001b[0;34m\u001b[0m\u001b[0;34m\u001b[0m\u001b[0m\n\u001b[0;32m---> 26\u001b[0;31m \u001b[0mlayer_to_visualize\u001b[0m\u001b[0;34m(\u001b[0m\u001b[0moutput3\u001b[0m\u001b[0;34m)\u001b[0m\u001b[0;34m\u001b[0m\u001b[0;34m\u001b[0m\u001b[0m\n\u001b[0m",
            "\u001b[0;32m<ipython-input-16-d9874e79fc9e>\u001b[0m in \u001b[0;36mlayer_to_visualize\u001b[0;34m(mylayer)\u001b[0m\n\u001b[1;32m      4\u001b[0m     \u001b[0minputs\u001b[0m \u001b[0;34m=\u001b[0m \u001b[0;34m[\u001b[0m\u001b[0mK\u001b[0m\u001b[0;34m.\u001b[0m\u001b[0mlearning_phase\u001b[0m\u001b[0;34m(\u001b[0m\u001b[0;34m)\u001b[0m\u001b[0;34m]\u001b[0m \u001b[0;34m+\u001b[0m \u001b[0mmodel\u001b[0m\u001b[0;34m.\u001b[0m\u001b[0minputs\u001b[0m\u001b[0;34m\u001b[0m\u001b[0;34m\u001b[0m\u001b[0m\n\u001b[1;32m      5\u001b[0m \u001b[0;34m\u001b[0m\u001b[0m\n\u001b[0;32m----> 6\u001b[0;31m     \u001b[0m_convout1_f\u001b[0m \u001b[0;34m=\u001b[0m \u001b[0mK\u001b[0m\u001b[0;34m.\u001b[0m\u001b[0mfunction\u001b[0m\u001b[0;34m(\u001b[0m\u001b[0minputs\u001b[0m\u001b[0;34m,\u001b[0m \u001b[0;34m[\u001b[0m\u001b[0mmylayer\u001b[0m\u001b[0;34m.\u001b[0m\u001b[0moutput\u001b[0m\u001b[0;34m]\u001b[0m\u001b[0;34m)\u001b[0m\u001b[0;34m\u001b[0m\u001b[0;34m\u001b[0m\u001b[0m\n\u001b[0m\u001b[1;32m      7\u001b[0m     \u001b[0;32mdef\u001b[0m \u001b[0mconvout1_f\u001b[0m\u001b[0;34m(\u001b[0m\u001b[0mX\u001b[0m\u001b[0;34m)\u001b[0m\u001b[0;34m:\u001b[0m\u001b[0;34m\u001b[0m\u001b[0;34m\u001b[0m\u001b[0m\n\u001b[1;32m      8\u001b[0m         \u001b[0;31m# The [0] is to disable the training phase flag\u001b[0m\u001b[0;34m\u001b[0m\u001b[0;34m\u001b[0m\u001b[0;34m\u001b[0m\u001b[0m\n",
            "\u001b[0;31mAttributeError\u001b[0m: 'KerasTensor' object has no attribute 'output'"
          ]
        }
      ]
    },
    {
      "cell_type": "code",
      "metadata": {
        "id": "OHW8DvlKuOrS"
      },
      "source": [
        ""
      ],
      "execution_count": null,
      "outputs": []
    }
  ]
}
